{
 "cells": [
  {
   "cell_type": "markdown",
   "metadata": {},
   "source": [
    "# Jaccard Similarity between Dependency Trees"
   ]
  },
  {
   "cell_type": "code",
   "execution_count": 1,
   "metadata": {},
   "outputs": [],
   "source": [
    "import sys\n",
    "sys.path.append(\"..\")"
   ]
  },
  {
   "cell_type": "code",
   "execution_count": 2,
   "metadata": {},
   "outputs": [],
   "source": [
    "import conllu\n",
    "import treesimi as ts\n",
    "import datasketch\n",
    "import json"
   ]
  },
  {
   "cell_type": "markdown",
   "metadata": {},
   "source": [
    "## Load dataset"
   ]
  },
  {
   "cell_type": "code",
   "execution_count": 3,
   "metadata": {},
   "outputs": [],
   "source": [
    "dat = conllu.parse(open(\"../data/de_hdt-ud-dev.conllu\").read())"
   ]
  },
  {
   "cell_type": "markdown",
   "metadata": {},
   "source": [
    "## Generate shinglesets"
   ]
  },
  {
   "cell_type": "code",
   "execution_count": 4,
   "metadata": {},
   "outputs": [],
   "source": [
    "cfg = {\n",
    "    'use_trunc_leaves': True, \n",
    "    'use_drop_nodes': False, \n",
    "    'use_replace_attr': False\n",
    "}\n",
    "\n",
    "mhash = []\n",
    "for i in (54, 51, 56, 57, 58):\n",
    "    adjac = [(t['id'], t['head'], t['deprel']) for t in dat[i]]\n",
    "    nested = ts.adjac_to_nested_with_attr(adjac)\n",
    "    nested = ts.remove_node_ids(nested)\n",
    "    shingled = ts.shingleset(nested, **cfg)\n",
    "    stringified = [json.dumps(tree).encode('utf-8') for tree in shingled]\n",
    "    m = datasketch.MinHash(num_perm=256)\n",
    "    for s in stringified:\n",
    "        m.update(s)\n",
    "    mhash.append(m)"
   ]
  },
  {
   "cell_type": "markdown",
   "metadata": {},
   "source": [
    "## Compute Jaccard Similarities"
   ]
  },
  {
   "cell_type": "code",
   "execution_count": 5,
   "metadata": {},
   "outputs": [
    {
     "name": "stdout",
     "output_type": "stream",
     "text": [
      "1.0\n",
      "0.11328125\n",
      "0.12109375\n",
      "0.171875\n",
      "0.08984375\n"
     ]
    }
   ],
   "source": [
    "for i in range(len(mhash)):\n",
    "    print(mhash[0].jaccard(mhash[i]))"
   ]
  }
 ],
 "metadata": {
  "kernelspec": {
   "display_name": "Python 3",
   "language": "python",
   "name": "python3"
  },
  "language_info": {
   "codemirror_mode": {
    "name": "ipython",
    "version": 3
   },
   "file_extension": ".py",
   "mimetype": "text/x-python",
   "name": "python",
   "nbconvert_exporter": "python",
   "pygments_lexer": "ipython3",
   "version": "3.6.3"
  }
 },
 "nbformat": 4,
 "nbformat_minor": 4
}
