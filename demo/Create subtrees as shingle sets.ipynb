{
 "cells": [
  {
   "cell_type": "markdown",
   "metadata": {},
   "source": [
    "# Create subtrees as shingle sets"
   ]
  },
  {
   "cell_type": "code",
   "execution_count": 1,
   "metadata": {},
   "outputs": [],
   "source": [
    "import sys\n",
    "sys.path.append(\"..\")"
   ]
  },
  {
   "cell_type": "code",
   "execution_count": 2,
   "metadata": {},
   "outputs": [],
   "source": [
    "import conllu\n",
    "import treesimi as ts\n",
    "import copy\n",
    "import json"
   ]
  },
  {
   "cell_type": "markdown",
   "metadata": {},
   "source": [
    "## Load Dataset"
   ]
  },
  {
   "cell_type": "code",
   "execution_count": 3,
   "metadata": {},
   "outputs": [],
   "source": [
    "%%capture\n",
    "!mkdir \"../data\"\n",
    "!wget -O \"../data/de_hdt-ud-dev.conllu\" \"https://raw.githubusercontent.com/UniversalDependencies/UD_German-HDT/master/de_hdt-ud-dev.conllu\""
   ]
  },
  {
   "cell_type": "code",
   "execution_count": 4,
   "metadata": {},
   "outputs": [
    {
     "data": {
      "text/plain": [
       "18434"
      ]
     },
     "execution_count": 4,
     "metadata": {},
     "output_type": "execute_result"
    }
   ],
   "source": [
    "dat = conllu.parse(open(\"../data/de_hdt-ud-dev.conllu\").read())\n",
    "len(dat)"
   ]
  },
  {
   "cell_type": "markdown",
   "metadata": {},
   "source": [
    "## Convert Adjacency List to Nested Set Table"
   ]
  },
  {
   "cell_type": "code",
   "execution_count": 5,
   "metadata": {},
   "outputs": [
    {
     "data": {
      "text/plain": [
       "[(1, 11, 'advcl'),\n",
       " (2, 3, 'case'),\n",
       " (3, 1, 'obl'),\n",
       " (4, 7, 'case'),\n",
       " (5, 7, 'det'),\n",
       " (6, 7, 'amod'),\n",
       " (7, 3, 'nmod'),\n",
       " (8, 9, 'case'),\n",
       " (9, 7, 'nmod'),\n",
       " (10, 1, 'punct'),\n",
       " (11, 0, 'root'),\n",
       " (12, 13, 'det'),\n",
       " (13, 11, 'nsubj'),\n",
       " (14, 15, 'det'),\n",
       " (15, 13, 'nmod'),\n",
       " (16, 17, 'det'),\n",
       " (17, 11, 'obj'),\n",
       " (18, 11, 'compound:prt'),\n",
       " (19, 11, 'punct')]"
      ]
     },
     "execution_count": 5,
     "metadata": {},
     "output_type": "execute_result"
    }
   ],
   "source": [
    "# adjacancy list model\n",
    "j = 1\n",
    "adjac = [(t['id'], t['head'], t['deprel']) for t in dat[j]]\n",
    "adjac"
   ]
  },
  {
   "cell_type": "code",
   "execution_count": 6,
   "metadata": {},
   "outputs": [
    {
     "data": {
      "text/plain": [
       "[[1, 38, 0, 'root'],\n",
       " [2, 21, 1, 'advcl'],\n",
       " [3, 18, 2, 'obl'],\n",
       " [4, 5, 3, 'case'],\n",
       " [6, 17, 3, 'nmod'],\n",
       " [7, 8, 4, 'case'],\n",
       " [9, 10, 4, 'det'],\n",
       " [11, 12, 4, 'amod'],\n",
       " [13, 16, 4, 'nmod'],\n",
       " [14, 15, 5, 'case'],\n",
       " [19, 20, 2, 'punct'],\n",
       " [22, 29, 1, 'nsubj'],\n",
       " [23, 24, 2, 'det'],\n",
       " [25, 28, 2, 'nmod'],\n",
       " [26, 27, 3, 'det'],\n",
       " [30, 33, 1, 'obj'],\n",
       " [31, 32, 2, 'det'],\n",
       " [34, 35, 1, 'compound:prt'],\n",
       " [36, 37, 1, 'punct']]"
      ]
     },
     "execution_count": 6,
     "metadata": {},
     "output_type": "execute_result"
    }
   ],
   "source": [
    "# convert to nested set mode\n",
    "nested = ts.adjac_to_nested_with_attr(adjac)\n",
    "nested = ts.remove_node_ids(nested)\n",
    "nested"
   ]
  },
  {
   "cell_type": "markdown",
   "metadata": {},
   "source": [
    "## Extract Subtrees\n",
    "The code below is wrapped into the `treesimi.shingleset` function."
   ]
  },
  {
   "cell_type": "code",
   "execution_count": 7,
   "metadata": {},
   "outputs": [
    {
     "name": "stdout",
     "output_type": "stream",
     "text": [
      "#num subtrees: 13\n",
      "#num subtrees: 24\n",
      "#num subtrees: 118\n",
      "#num subtrees: 1204\n"
     ]
    }
   ],
   "source": [
    "# Extract full subtrees\n",
    "trees = ts.extract_subtrees(nested)\n",
    "trees.append(nested)  # add original tree\n",
    "trees = ts.unique_trees(trees)\n",
    "print(f\"#num subtrees: {len(trees)}\")\n",
    "\n",
    "# Truncate leaves\n",
    "for tmp in copy.deepcopy(trees):\n",
    "    trees.extend(ts.trunc_leaves(tmp))\n",
    "\n",
    "trees = ts.unique_trees(trees)\n",
    "print(f\"#num subtrees: {len(trees)}\")\n",
    "\n",
    "# Drop nodes\n",
    "for tmp in copy.deepcopy(trees):\n",
    "    trees.extend(ts.drop_nodes(tmp))\n",
    "\n",
    "trees = ts.unique_trees(trees)\n",
    "print(f\"#num subtrees: {len(trees)}\")\n",
    "\n",
    "# Mask data attributes\n",
    "for tmp in copy.deepcopy(trees):\n",
    "    trees.extend(ts.replace_attr(tmp, placeholder='[MASK]'))\n",
    "\n",
    "trees = ts.unique_trees(trees)\n",
    "print(f\"#num subtrees: {len(trees)}\")"
   ]
  },
  {
   "cell_type": "markdown",
   "metadata": {},
   "source": [
    "## Create Hashable Shingles from Subtrees"
   ]
  },
  {
   "cell_type": "code",
   "execution_count": 8,
   "metadata": {},
   "outputs": [
    {
     "data": {
      "text/plain": [
       "1204"
      ]
     },
     "execution_count": 8,
     "metadata": {},
     "output_type": "execute_result"
    }
   ],
   "source": [
    "stringified = [json.dumps(tree).encode('utf-8') for tree in trees]\n",
    "len(stringified)"
   ]
  }
 ],
 "metadata": {
  "kernelspec": {
   "display_name": "Python 3",
   "language": "python",
   "name": "python3"
  },
  "language_info": {
   "codemirror_mode": {
    "name": "ipython",
    "version": 3
   },
   "file_extension": ".py",
   "mimetype": "text/x-python",
   "name": "python",
   "nbconvert_exporter": "python",
   "pygments_lexer": "ipython3",
   "version": "3.6.3"
  }
 },
 "nbformat": 4,
 "nbformat_minor": 4
}
