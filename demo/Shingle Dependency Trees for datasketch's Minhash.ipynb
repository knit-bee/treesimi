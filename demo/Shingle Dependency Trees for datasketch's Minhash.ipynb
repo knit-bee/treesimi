{
 "cells": [
  {
   "cell_type": "markdown",
   "metadata": {},
   "source": [
    "# Shingle Dependency Trees for datasketch's Minhash"
   ]
  },
  {
   "cell_type": "code",
   "execution_count": 1,
   "metadata": {},
   "outputs": [],
   "source": [
    "import sys\n",
    "sys.path.append(\"..\")"
   ]
  },
  {
   "cell_type": "code",
   "execution_count": 2,
   "metadata": {},
   "outputs": [],
   "source": [
    "import conllu\n",
    "import treesimi as ts\n",
    "import datasketch\n",
    "import json\n",
    "import itertools"
   ]
  },
  {
   "cell_type": "markdown",
   "metadata": {},
   "source": [
    "## Load Dataset"
   ]
  },
  {
   "cell_type": "code",
   "execution_count": 3,
   "metadata": {},
   "outputs": [],
   "source": [
    "%%capture\n",
    "!mkdir \"../data\"\n",
    "!wget -O \"../data/de_hdt-ud-dev.conllu\" \"https://raw.githubusercontent.com/UniversalDependencies/UD_German-HDT/master/de_hdt-ud-dev.conllu\""
   ]
  },
  {
   "cell_type": "code",
   "execution_count": 4,
   "metadata": {},
   "outputs": [
    {
     "data": {
      "text/plain": [
       "18434"
      ]
     },
     "execution_count": 4,
     "metadata": {},
     "output_type": "execute_result"
    }
   ],
   "source": [
    "dat = conllu.parse(open(\"../data/de_hdt-ud-dev.conllu\").read())\n",
    "len(dat)"
   ]
  },
  {
   "cell_type": "markdown",
   "metadata": {},
   "source": [
    "# Generate Shingles and Build LSH\n",
    "We are trying the following LSH models available in the datasketch package:\n",
    "\n",
    "1. `MinHashLSH` -- Index is updatable, Threshold is fixed, Num results unknown (Redis support)\n",
    "2. `MinHashLSHForest` -- Index is updatable, Threshold unknown, Top-N are returned\n",
    "3. `MinHashLSHEnsemble` -- Index is fixed, Threshold is fixed (Redis support)"
   ]
  },
  {
   "cell_type": "code",
   "execution_count": 5,
   "metadata": {},
   "outputs": [
    {
     "name": "stdout",
     "output_type": "stream",
     "text": [
      "CPU times: user 2min 19s, sys: 1.09 s, total: 2min 20s\n",
      "Wall time: 2min 21s\n"
     ]
    }
   ],
   "source": [
    "%%time\n",
    "\n",
    "cfg = {\n",
    "    'use_trunc_leaves': True,\n",
    "    'use_drop_nodes': False,\n",
    "    'use_replace_attr': False\n",
    "}\n",
    "\n",
    "# Instantiate LSH Forest\n",
    "lsh1 = datasketch.MinHashLSH(num_perm=256, threshold=0.8)\n",
    "lsh2 = datasketch.MinHashLSHForest(num_perm=256)\n",
    "lsh3 = datasketch.MinHashLSHEnsemble(num_perm=256, threshold=0.8, num_part=32)\n",
    "lsh3examples = []\n",
    "\n",
    "mhash = []\n",
    "for i in range(len(dat)):\n",
    "    # Read tree data \n",
    "    adjac = [(t['id'], t['head'], t['deprel']) for t in dat[i]]\n",
    "    nested = ts.adjac_to_nested_with_attr(adjac)\n",
    "    nested = ts.remove_node_ids(nested)\n",
    "    \n",
    "    # Shingling\n",
    "    shingled = ts.shingleset(nested, **cfg)\n",
    "    stringified = [json.dumps(tree).encode('utf-8') for tree in shingled]\n",
    "\n",
    "    # Create MinHash objects\n",
    "    m = datasketch.MinHash(num_perm=256)\n",
    "    for s in stringified:\n",
    "        m.update(s)\n",
    "\n",
    "    # Add to LSH\n",
    "    lsh1.insert(i, m)\n",
    "    lsh2.add(i, m)\n",
    "    lsh3examples.append((i, m, len(stringified)))\n",
    "\n",
    "    # save objects\n",
    "    mhash.append(m)\n",
    "\n",
    "# Call index method for LSH Forest\n",
    "lsh2.index()\n",
    "# Call index method to build the whole LSH Ensemble\n",
    "lsh3.index(tuple(lsh3examples))"
   ]
  },
  {
   "cell_type": "markdown",
   "metadata": {},
   "source": [
    "# Query the index"
   ]
  },
  {
   "cell_type": "markdown",
   "metadata": {},
   "source": [
    "## Just LSH"
   ]
  },
  {
   "cell_type": "code",
   "execution_count": 6,
   "metadata": {},
   "outputs": [],
   "source": [
    "# try to find any clusters of similar sentences\n",
    "results = []\n",
    "for j in range(len(mhash)):\n",
    "    results.append(lsh1.query(mhash[j]))"
   ]
  },
  {
   "cell_type": "code",
   "execution_count": 7,
   "metadata": {},
   "outputs": [
    {
     "name": "stdout",
     "output_type": "stream",
     "text": [
      "32\n"
     ]
    }
   ],
   "source": [
    "tmp = []\n",
    "for i, res in enumerate(results):\n",
    "    # number of examples with at least 1 similar example\n",
    "    if len(res) >= 3 and len(res) <= 10:\n",
    "        # mininum number of tokens\n",
    "        if len(dat[i]) >= 8:\n",
    "            tmp.append(res)\n",
    "\n",
    "print(len(set(itertools.chain(*tmp))))"
   ]
  },
  {
   "cell_type": "code",
   "execution_count": 8,
   "metadata": {},
   "outputs": [
    {
     "name": "stdout",
     "output_type": "stream",
     "text": [
      "416\n",
      "     416 | 1.0000 | Das Problem sei mit LetsBuyIt.com bereits geklärt worden .\n",
      "    5521 | 0.7070 | Im Emissionsprospekt sei diese Aktion nicht erwähnt worden .\n",
      "    9282 | 0.7070 | Im Januar sollen die Budgetziele neu formuliert werden .\n"
     ]
    }
   ],
   "source": [
    "res = tmp[0]\n",
    "j = res[0]\n",
    "print(j)\n",
    "\n",
    "for i in res:\n",
    "    print(f\"{i:>8d} | {mhash[i].jaccard(mhash[j]):6.4f} | {dat[i].metadata['text']}\")"
   ]
  },
  {
   "cell_type": "markdown",
   "metadata": {},
   "source": [
    "## Top-N Results (LSH Forest)"
   ]
  },
  {
   "cell_type": "code",
   "execution_count": 9,
   "metadata": {},
   "outputs": [
    {
     "name": "stdout",
     "output_type": "stream",
     "text": [
      "#num results: 5\n",
      "    5000 | 1.0000 | 25 Bilder pro Sekunde in voller PAL-Auflösung lassen sich laut Formac so aufnehmen .\n",
      "   15371 | 0.1719 | Chip- und Speichertakt liegen dann bei 143 MHz gegenüber rund 105 MHz beim Vorgänger .\n",
      "    5648 | 0.1172 | 15 Millionen Online-Konten in Deutschland\n",
      "    9332 | 0.2578 | Neben Siemens wurden weitere sieben Firmen wegen Leistungsmängeln bei Computersystemen mit Geldstrafen belegt .\n",
      "   11903 | 0.1016 | Gewinn vor Steuern und Gewinn je Anteil sind im Geschäftsjahr 2000 um 70 respektive 73 Prozent gestiegen .\n"
     ]
    }
   ],
   "source": [
    "j = 5000\n",
    "res = lsh2.query(mhash[j], 5)\n",
    "print(f\"#num results: {len(res)}\")\n",
    "\n",
    "for i in res:\n",
    "    print(f\"{i:>8d} | {mhash[i].jaccard(mhash[j]):6.4f} | {dat[i].metadata['text']}\")"
   ]
  },
  {
   "cell_type": "markdown",
   "metadata": {},
   "source": [
    "## Containment Query (LSH Ensemble)"
   ]
  },
  {
   "cell_type": "code",
   "execution_count": 10,
   "metadata": {},
   "outputs": [
    {
     "name": "stdout",
     "output_type": "stream",
     "text": [
      "#num results: 235\n",
      "   12312 | 0.3008 | Mit solch winzigen Bauelementen könnte man Handys in Zukunft noch kompakter gestalten .\n",
      "    3841 | 0.3828 | Zusätzliche Rechner lassen sich bei Bedarf jederzeit hinzufügen .\n",
      "    1485 | 0.3047 | Zudem hatte AOL in Deutschland CompuServe vom zweiten Platz hinter T-Online verdrängt .\n",
      "    5000 | 1.0000 | 25 Bilder pro Sekunde in voller PAL-Auflösung lassen sich laut Formac so aufnehmen .\n"
     ]
    }
   ],
   "source": [
    "j = 5000\n",
    "res = [key for key in lsh3.query(lsh3examples[j][1], lsh3examples[j][2])]\n",
    "print(f\"#num results: {len(res)}\")\n",
    "\n",
    "for i in res:\n",
    "    jacc = mhash[i].jaccard(mhash[j])\n",
    "    if jacc > 0.30:\n",
    "        print(f\"{i:>8d} | {jacc:6.4f} | {dat[i].metadata['text']}\")"
   ]
  },
  {
   "cell_type": "code",
   "execution_count": null,
   "metadata": {},
   "outputs": [],
   "source": []
  }
 ],
 "metadata": {
  "kernelspec": {
   "display_name": "Python 3",
   "language": "python",
   "name": "python3"
  },
  "language_info": {
   "codemirror_mode": {
    "name": "ipython",
    "version": 3
   },
   "file_extension": ".py",
   "mimetype": "text/x-python",
   "name": "python",
   "nbconvert_exporter": "python",
   "pygments_lexer": "ipython3",
   "version": "3.6.3"
  }
 },
 "nbformat": 4,
 "nbformat_minor": 4
}
